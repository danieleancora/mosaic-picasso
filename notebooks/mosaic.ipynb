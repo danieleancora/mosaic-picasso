{
 "cells": [
  {
   "cell_type": "code",
   "execution_count": 2,
   "metadata": {
    "tags": []
   },
   "outputs": [
    {
     "name": "stdout",
     "output_type": "stream",
     "text": [
      "im: (256, 256, 3)\n"
     ]
    },
    {
     "data": {
      "image/png": "[encoded data removed]",
      "text/plain": [
       "<Figure size 1300x1300 with 3 Axes>"
      ]
     },
     "metadata": {},
     "output_type": "display_data"
    }
   ],
   "source": [
    "# %load_ext autoreload\n",
    "# %autoreload 2\n",
    "\n",
    "import numpy as np \n",
    "import pandas as pd \n",
    "import matplotlib.pyplot as plt \n",
    "import skimage, glob \n",
    "import skimage.exposure\n",
    "\n",
    "# add .. to os path\n",
    "import os, sys\n",
    "sys.path.append(\"../\")\n",
    "\n",
    "import mosaic_picasso.mosaic as mp\n",
    "import mosaic_picasso.utils as utils\n",
    "import importlib \n",
    "\n",
    "# importlib.reload(UTILITY_7)\n",
    "importlib.reload(mp)\n",
    "\n",
    "# Load demo data of 2 channel \n",
    "#f = r\"../data/CD8_CD3e_CD4_.tiff\"\n",
    "#f = r\"/Users/danieleancora/Documents/GitHub/matisse/data/PICASSO/5-color unmixing simulation/Before unmixing.tif\"\n",
    "#f = r\"/Users/danieleancora/Documents/GitHub/matisse/data/PICASSO/3-color unmixing validation/Before unmixing.tif\"\n",
    "#im = skimage.io.imread(f).astype(np.single)\n",
    "\n",
    "\n",
    "\n",
    "fluo = np.zeros((3,256,256), dtype=np.float32)\n",
    "imag = np.zeros((3,256,256), dtype=np.float32)\n",
    "fluo[0,10:30,:] = 1\n",
    "fluo[0,:,10:30] = 2\n",
    "fluo[1,25:40,:] = 3\n",
    "fluo[1,:,25:40] = 1\n",
    "fluo[2,100:130,:] = 1.5\n",
    "fluo[2,:,100:] = 1\n",
    "channels, xdim, ydim = fluo.shape\n",
    "\n",
    "# %% Producing a fake mixed data\n",
    "beta = np.asarray([[1.00, 0.30, 0.13],\n",
    "                   [0.25, 1.00, 0.14],\n",
    "                   [0.09, 0.32, 1.00]]).astype(dtype=np.float32)\n",
    "fluo = fluo[0:3,:,:]\n",
    "channels, xdim, ydim = fluo.shape\n",
    "im = np.matmul(beta, fluo.reshape(channels, xdim*ydim)).reshape(channels, xdim, ydim)\n",
    "\n",
    "im = np.moveaxis(im, 0, -1)\n",
    "print(f'im: {im.shape}')\n",
    "\n",
    "plt.figure(figsize=(13,13))\n",
    "for i in range(channels):\n",
    "    plt.subplot(1,channels,i+1), plt.imshow(im[:,:,i], cmap='hot', vmin=0), plt.axis('off'), plt.title('Ground Truth')\n",
    "    # plt.subplot(3,channels,i+1+channels), plt.imshow(fluo_rec[i,:,:], cmap='hot', vmin=0), plt.axis('off'), plt.title('Image unmixing')\n",
    "plt.tight_layout()\n",
    "\n"
   ]
  },
  {
   "cell_type": "code",
   "execution_count": 3,
   "metadata": {
    "tags": []
   },
   "outputs": [
    {
     "name": "stdout",
     "output_type": "stream",
     "text": [
      "shift: [-0.01 -0.01], img: (256, 256, 3)\n",
      "shift: [0. 0.], img: (256, 256, 3)\n"
     ]
    },
    {
     "name": "stderr",
     "output_type": "stream",
     "text": [
      "/home/daniele/anaconda3/envs/torch/lib/python3.10/site-packages/skimage/metrics/_structural_similarity.py:230: RuntimeWarning: invalid value encountered in divide\n",
      "  S = (A1 * A2) / D\n",
      "/home/daniele/anaconda3/envs/torch/lib/python3.10/site-packages/skimage/metrics/_structural_similarity.py:230: RuntimeWarning: invalid value encountered in divide\n",
      "  S = (A1 * A2) / D\n",
      "/home/daniele/Documents/GitHub/mosaic-picasso/notebooks/../mosaic_picasso/mosaic.py:46: RuntimeWarning: invalid value encountered in divide\n",
      "  hist /= np.sum(hist)  # Normalize the histogram\n",
      "/home/daniele/Documents/GitHub/mosaic-picasso/notebooks/../mosaic_picasso/mosaic.py:46: RuntimeWarning: invalid value encountered in divide\n",
      "  hist /= np.sum(hist)  # Normalize the histogram\n",
      "/home/daniele/anaconda3/envs/torch/lib/python3.10/site-packages/skimage/metrics/_structural_similarity.py:230: RuntimeWarning: divide by zero encountered in divide\n",
      "  S = (A1 * A2) / D\n",
      "/home/daniele/anaconda3/envs/torch/lib/python3.10/site-packages/skimage/metrics/_structural_similarity.py:230: RuntimeWarning: invalid value encountered in divide\n",
      "  S = (A1 * A2) / D\n",
      "/home/daniele/Documents/GitHub/mosaic-picasso/notebooks/../mosaic_picasso/mosaic.py:46: RuntimeWarning: invalid value encountered in divide\n",
      "  hist /= np.sum(hist)  # Normalize the histogram\n",
      "/home/daniele/anaconda3/envs/torch/lib/python3.10/site-packages/skimage/metrics/_structural_similarity.py:230: RuntimeWarning: invalid value encountered in divide\n",
      "  S = (A1 * A2) / D\n",
      "/home/daniele/anaconda3/envs/torch/lib/python3.10/site-packages/skimage/metrics/_structural_similarity.py:230: RuntimeWarning: divide by zero encountered in divide\n",
      "  S = (A1 * A2) / D\n",
      "/home/daniele/anaconda3/envs/torch/lib/python3.10/site-packages/skimage/metrics/_structural_similarity.py:230: RuntimeWarning: invalid value encountered in divide\n",
      "  S = (A1 * A2) / D\n",
      "/home/daniele/Documents/GitHub/mosaic-picasso/notebooks/../mosaic_picasso/mosaic.py:46: RuntimeWarning: invalid value encountered in divide\n",
      "  hist /= np.sum(hist)  # Normalize the histogram\n",
      "/home/daniele/Documents/GitHub/mosaic-picasso/notebooks/../mosaic_picasso/mosaic.py:46: RuntimeWarning: invalid value encountered in divide\n",
      "  hist /= np.sum(hist)  # Normalize the histogram\n",
      "/home/daniele/anaconda3/envs/torch/lib/python3.10/site-packages/skimage/metrics/_structural_similarity.py:230: RuntimeWarning: invalid value encountered in divide\n",
      "  S = (A1 * A2) / D\n",
      "/home/daniele/Documents/GitHub/mosaic-picasso/notebooks/../mosaic_picasso/mosaic.py:46: RuntimeWarning: invalid value encountered in divide\n",
      "  hist /= np.sum(hist)  # Normalize the histogram\n"
     ]
    },
    {
     "name": "stdout",
     "output_type": "stream",
     "text": [
      "0,"
     ]
    },
    {
     "name": "stderr",
     "output_type": "stream",
     "text": [
      "/home/daniele/Documents/GitHub/mosaic-picasso/notebooks/../mosaic_picasso/mosaic.py:50: RuntimeWarning: invalid value encountered in double_scalars\n",
      "  return (entropy1 + entropy2 - joint_entropy) / np.maximum(entropy1, entropy2)\n",
      "/home/daniele/Documents/GitHub/mosaic-picasso/notebooks/../mosaic_picasso/mosaic.py:50: RuntimeWarning: invalid value encountered in double_scalars\n",
      "  return (entropy1 + entropy2 - joint_entropy) / np.maximum(entropy1, entropy2)\n"
     ]
    },
    {
     "name": "stdout",
     "output_type": "stream",
     "text": [
      "1,"
     ]
    },
    {
     "name": "stderr",
     "output_type": "stream",
     "text": [
      "/home/daniele/Documents/GitHub/mosaic-picasso/notebooks/../mosaic_picasso/mosaic.py:50: RuntimeWarning: invalid value encountered in double_scalars\n",
      "  return (entropy1 + entropy2 - joint_entropy) / np.maximum(entropy1, entropy2)\n",
      "/home/daniele/Documents/GitHub/mosaic-picasso/notebooks/../mosaic_picasso/mosaic.py:50: RuntimeWarning: invalid value encountered in double_scalars\n",
      "  return (entropy1 + entropy2 - joint_entropy) / np.maximum(entropy1, entropy2)\n"
     ]
    },
    {
     "name": "stdout",
     "output_type": "stream",
     "text": [
      "2,3,"
     ]
    },
    {
     "name": "stderr",
     "output_type": "stream",
     "text": [
      "/home/daniele/anaconda3/envs/torch/lib/python3.10/site-packages/skimage/metrics/_structural_similarity.py:230: RuntimeWarning: divide by zero encountered in divide\n",
      "  S = (A1 * A2) / D\n",
      "/home/daniele/anaconda3/envs/torch/lib/python3.10/site-packages/numpy/lib/function_base.py:4527: RuntimeWarning: invalid value encountered in subtract\n",
      "  diff_b_a = subtract(b, a)\n",
      "/home/daniele/anaconda3/envs/torch/lib/python3.10/site-packages/numpy/lib/function_base.py:4527: RuntimeWarning: invalid value encountered in subtract\n",
      "  diff_b_a = subtract(b, a)\n",
      "/home/daniele/Documents/GitHub/mosaic-picasso/notebooks/../mosaic_picasso/mosaic.py:46: RuntimeWarning: invalid value encountered in divide\n",
      "  hist /= np.sum(hist)  # Normalize the histogram\n"
     ]
    },
    {
     "name": "stdout",
     "output_type": "stream",
     "text": [
      "4,5,6,7,8,"
     ]
    },
    {
     "name": "stderr",
     "output_type": "stream",
     "text": [
      "/home/daniele/anaconda3/envs/torch/lib/python3.10/site-packages/skimage/metrics/_structural_similarity.py:230: RuntimeWarning: divide by zero encountered in divide\n",
      "  S = (A1 * A2) / D\n",
      "/home/daniele/anaconda3/envs/torch/lib/python3.10/site-packages/numpy/lib/function_base.py:4527: RuntimeWarning: invalid value encountered in subtract\n",
      "  diff_b_a = subtract(b, a)\n",
      "/home/daniele/anaconda3/envs/torch/lib/python3.10/site-packages/numpy/lib/function_base.py:4527: RuntimeWarning: invalid value encountered in subtract\n",
      "  diff_b_a = subtract(b, a)\n",
      "/home/daniele/Documents/GitHub/mosaic-picasso/notebooks/../mosaic_picasso/mosaic.py:46: RuntimeWarning: invalid value encountered in divide\n",
      "  hist /= np.sum(hist)  # Normalize the histogram\n"
     ]
    },
    {
     "name": "stdout",
     "output_type": "stream",
     "text": [
      "9,"
     ]
    },
    {
     "name": "stderr",
     "output_type": "stream",
     "text": [
      "/home/daniele/anaconda3/envs/torch/lib/python3.10/site-packages/skimage/metrics/_structural_similarity.py:230: RuntimeWarning: divide by zero encountered in divide\n",
      "  S = (A1 * A2) / D\n",
      "/home/daniele/Documents/GitHub/mosaic-picasso/notebooks/../mosaic_picasso/mosaic.py:50: RuntimeWarning: invalid value encountered in double_scalars\n",
      "  return (entropy1 + entropy2 - joint_entropy) / np.maximum(entropy1, entropy2)\n",
      "/home/daniele/anaconda3/envs/torch/lib/python3.10/site-packages/skimage/metrics/_structural_similarity.py:230: RuntimeWarning: divide by zero encountered in divide\n",
      "  S = (A1 * A2) / D\n",
      "/home/daniele/anaconda3/envs/torch/lib/python3.10/site-packages/numpy/lib/function_base.py:4527: RuntimeWarning: invalid value encountered in subtract\n",
      "  diff_b_a = subtract(b, a)\n",
      "/home/daniele/Documents/GitHub/mosaic-picasso/notebooks/../mosaic_picasso/mosaic.py:46: RuntimeWarning: invalid value encountered in divide\n",
      "  hist /= np.sum(hist)  # Normalize the histogram\n",
      "/home/daniele/Documents/GitHub/mosaic-picasso/notebooks/../mosaic_picasso/mosaic.py:50: RuntimeWarning: invalid value encountered in double_scalars\n",
      "  return (entropy1 + entropy2 - joint_entropy) / np.maximum(entropy1, entropy2)\n",
      "/home/daniele/anaconda3/envs/torch/lib/python3.10/site-packages/numpy/lib/function_base.py:4527: RuntimeWarning: invalid value encountered in subtract\n",
      "  diff_b_a = subtract(b, a)\n",
      "/home/daniele/Documents/GitHub/mosaic-picasso/notebooks/../mosaic_picasso/mosaic.py:50: RuntimeWarning: invalid value encountered in double_scalars\n",
      "  return (entropy1 + entropy2 - joint_entropy) / np.maximum(entropy1, entropy2)\n"
     ]
    },
    {
     "name": "stdout",
     "output_type": "stream",
     "text": [
      "10,11,"
     ]
    },
    {
     "name": "stderr",
     "output_type": "stream",
     "text": [
      "/home/daniele/anaconda3/envs/torch/lib/python3.10/site-packages/skimage/metrics/_structural_similarity.py:230: RuntimeWarning: invalid value encountered in divide\n",
      "  S = (A1 * A2) / D\n",
      "/home/daniele/anaconda3/envs/torch/lib/python3.10/site-packages/skimage/metrics/_structural_similarity.py:230: RuntimeWarning: invalid value encountered in divide\n",
      "  S = (A1 * A2) / D\n",
      "/home/daniele/Documents/GitHub/mosaic-picasso/notebooks/../mosaic_picasso/mosaic.py:46: RuntimeWarning: invalid value encountered in divide\n",
      "  hist /= np.sum(hist)  # Normalize the histogram\n"
     ]
    },
    {
     "name": "stdout",
     "output_type": "stream",
     "text": [
      "12,13,14,15,16,17,18,19,"
     ]
    },
    {
     "name": "stderr",
     "output_type": "stream",
     "text": [
      "/home/daniele/Documents/GitHub/mosaic-picasso/notebooks/../mosaic_picasso/mosaic.py:50: RuntimeWarning: invalid value encountered in double_scalars\n",
      "  return (entropy1 + entropy2 - joint_entropy) / np.maximum(entropy1, entropy2)\n",
      "/home/daniele/Documents/GitHub/mosaic-picasso/notebooks/../mosaic_picasso/mosaic.py:50: RuntimeWarning: invalid value encountered in double_scalars\n",
      "  return (entropy1 + entropy2 - joint_entropy) / np.maximum(entropy1, entropy2)\n"
     ]
    }
   ],
   "source": [
    "# # pre processing\n",
    "im_drift_corrected = utils.drift_corr(im)\n",
    "im_drift_corrected_bg_removed = utils.bg_remove(im_drift_corrected)\n",
    "\n",
    "# call PICASSO\n",
    "mosaic = mp.MosaicPicasso(bins=256, beta=0, gamma=0.1, cycles=20, nch=3)\n",
    "\n",
    "# test img \n",
    "im_mosaic, P = mosaic.mosaic(im_drift_corrected_bg_removed)\n"
   ]
  },
  {
   "cell_type": "code",
   "execution_count": 4,
   "metadata": {
    "tags": []
   },
   "outputs": [
    {
     "data": {
      "image/png": "[encoded data removed]",
      "text/plain": [
       "<Figure size 1300x1300 with 6 Axes>"
      ]
     },
     "metadata": {},
     "output_type": "display_data"
    }
   ],
   "source": [
    "plt.figure(figsize=(13,13))\n",
    "for i in range(channels):\n",
    "    plt.subplot(2,channels,i+1), plt.imshow(im[:,:,i], cmap='hot', vmin=0), plt.axis('off'), plt.title('Ground Truth')\n",
    "    plt.subplot(2,channels,i+1+channels), plt.imshow(im_mosaic[:,:,i], cmap='hot', vmin=0), plt.axis('off'), plt.title('Image unmixing')\n",
    "plt.tight_layout()"
   ]
  },
  {
   "cell_type": "code",
   "execution_count": 6,
   "metadata": {
    "tags": []
   },
   "outputs": [
    {
     "name": "stdout",
     "output_type": "stream",
     "text": [
      "im: (256, 256, 3), im_mosaic: (256, 256, 3)\n"
     ]
    },
    {
     "data": {
      "image/png": "[encoded data removed]",
      "text/plain": [
       "<Figure size 640x480 with 2 Axes>"
      ]
     },
     "metadata": {},
     "output_type": "display_data"
    }
   ],
   "source": [
    "# this is for 3-colors\n",
    "# show results\n",
    "print(f'im: {im_drift_corrected.shape}, im_mosaic: {im_mosaic.shape}')\n",
    "\n",
    "# show rgb\n",
    "ims = [im/im.max(), im_mosaic/im_mosaic.max()]\n",
    "ims_rgb = [skimage.exposure.equalize_adapthist(im_a) for im_a in ims]\n",
    "\n",
    "titles = ['raw', 'mosaic']\n",
    "fig, axs = plt.subplots(1,2, dpi=100)\n",
    "for i, im_a in enumerate(ims_rgb):\n",
    "    axs[i].imshow(im_a)\n",
    "    axs[i].axis('off')\n",
    "    axs[i].set_title(titles[i])\n",
    "plt.show()"
   ]
  },
  {
   "cell_type": "code",
   "execution_count": 7,
   "metadata": {
    "tags": []
   },
   "outputs": [
    {
     "ename": "ValueError",
     "evalue": "Input data should be an array-like object, or a sequence of arrays of decreasing size. Got arrays of single shape: (256, 256, 3)",
     "output_type": "error",
     "traceback": [
      "\u001b[0;31m---------------------------------------------------------------------------\u001b[0m",
      "\u001b[0;31mValueError\u001b[0m                                Traceback (most recent call last)",
      "Cell \u001b[0;32mIn[7], line 5\u001b[0m\n\u001b[1;32m      3\u001b[0m viewer \u001b[38;5;241m=\u001b[39m napari\u001b[38;5;241m.\u001b[39mViewer()\n\u001b[1;32m      4\u001b[0m viewer\u001b[38;5;241m.\u001b[39madd_image(im_drift_corrected, channel_axis\u001b[38;5;241m=\u001b[39m\u001b[38;5;241m2\u001b[39m, gamma\u001b[38;5;241m=\u001b[39m\u001b[38;5;241m0.5\u001b[39m)\n\u001b[0;32m----> 5\u001b[0m \u001b[43mviewer\u001b[49m\u001b[38;5;241;43m.\u001b[39;49m\u001b[43madd_image\u001b[49m\u001b[43m(\u001b[49m\u001b[43mims_rgb\u001b[49m\u001b[43m,\u001b[49m\u001b[43m \u001b[49m\u001b[43mchannel_axis\u001b[49m\u001b[38;5;241;43m=\u001b[39;49m\u001b[38;5;241;43m2\u001b[39;49m\u001b[43m,\u001b[49m\u001b[43m \u001b[49m\u001b[43mgamma\u001b[49m\u001b[38;5;241;43m=\u001b[39;49m\u001b[38;5;241;43m0.5\u001b[39;49m\u001b[43m)\u001b[49m\n\u001b[1;32m      7\u001b[0m labels \u001b[38;5;241m=\u001b[39m [\u001b[38;5;124m'\u001b[39m\u001b[38;5;124mCD8\u001b[39m\u001b[38;5;124m'\u001b[39m, \u001b[38;5;124m'\u001b[39m\u001b[38;5;124mCD3e\u001b[39m\u001b[38;5;124m'\u001b[39m, \u001b[38;5;124m'\u001b[39m\u001b[38;5;124mCD4\u001b[39m\u001b[38;5;124m'\u001b[39m]\n\u001b[1;32m      8\u001b[0m cmap   \u001b[38;5;241m=\u001b[39m [\u001b[38;5;124m'\u001b[39m\u001b[38;5;124mred\u001b[39m\u001b[38;5;124m'\u001b[39m, \u001b[38;5;124m'\u001b[39m\u001b[38;5;124mgreen\u001b[39m\u001b[38;5;124m'\u001b[39m, \u001b[38;5;124m'\u001b[39m\u001b[38;5;124mblue\u001b[39m\u001b[38;5;124m'\u001b[39m]\n",
      "File \u001b[0;32m~/anaconda3/envs/torch/lib/python3.10/site-packages/napari/components/viewer_model.py:750\u001b[0m, in \u001b[0;36mViewerModel.add_image\u001b[0;34m(self, data, channel_axis, rgb, colormap, contrast_limits, gamma, interpolation, rendering, depiction, iso_threshold, attenuation, name, metadata, scale, translate, rotate, shear, affine, opacity, blending, visible, multiscale, cache, plane, experimental_clipping_planes)\u001b[0m\n\u001b[1;32m    748\u001b[0m     \u001b[38;5;28;01mreturn\u001b[39;00m layer\n\u001b[1;32m    749\u001b[0m \u001b[38;5;28;01melse\u001b[39;00m:\n\u001b[0;32m--> 750\u001b[0m     layerdata_list \u001b[38;5;241m=\u001b[39m \u001b[43msplit_channels\u001b[49m\u001b[43m(\u001b[49m\u001b[43mdata\u001b[49m\u001b[43m,\u001b[49m\u001b[43m \u001b[49m\u001b[43mchannel_axis\u001b[49m\u001b[43m,\u001b[49m\u001b[43m \u001b[49m\u001b[38;5;241;43m*\u001b[39;49m\u001b[38;5;241;43m*\u001b[39;49m\u001b[43mkwargs\u001b[49m\u001b[43m)\u001b[49m\n\u001b[1;32m    752\u001b[0m     layer_list \u001b[38;5;241m=\u001b[39m \u001b[38;5;28mlist\u001b[39m()\n\u001b[1;32m    753\u001b[0m     \u001b[38;5;28;01mfor\u001b[39;00m image, i_kwargs, _ \u001b[38;5;129;01min\u001b[39;00m layerdata_list:\n",
      "File \u001b[0;32m~/anaconda3/envs/torch/lib/python3.10/site-packages/napari/layers/utils/stack_utils.py:79\u001b[0m, in \u001b[0;36msplit_channels\u001b[0;34m(data, channel_axis, **kwargs)\u001b[0m\n\u001b[1;32m     77\u001b[0m multiscale \u001b[38;5;241m=\u001b[39m kwargs\u001b[38;5;241m.\u001b[39mget(\u001b[38;5;124m'\u001b[39m\u001b[38;5;124mmultiscale\u001b[39m\u001b[38;5;124m'\u001b[39m)\n\u001b[1;32m     78\u001b[0m \u001b[38;5;28;01mif\u001b[39;00m \u001b[38;5;129;01mnot\u001b[39;00m multiscale:\n\u001b[0;32m---> 79\u001b[0m     multiscale, data \u001b[38;5;241m=\u001b[39m \u001b[43mguess_multiscale\u001b[49m\u001b[43m(\u001b[49m\u001b[43mdata\u001b[49m\u001b[43m)\u001b[49m\n\u001b[1;32m     80\u001b[0m     kwargs[\u001b[38;5;124m'\u001b[39m\u001b[38;5;124mmultiscale\u001b[39m\u001b[38;5;124m'\u001b[39m] \u001b[38;5;241m=\u001b[39m multiscale\n\u001b[1;32m     82\u001b[0m n_channels \u001b[38;5;241m=\u001b[39m (data[\u001b[38;5;241m0\u001b[39m] \u001b[38;5;28;01mif\u001b[39;00m multiscale \u001b[38;5;28;01melse\u001b[39;00m data)\u001b[38;5;241m.\u001b[39mshape[channel_axis]\n",
      "File \u001b[0;32m~/anaconda3/envs/torch/lib/python3.10/site-packages/napari/layers/image/_image_utils.py:76\u001b[0m, in \u001b[0;36mguess_multiscale\u001b[0;34m(data)\u001b[0m\n\u001b[1;32m     72\u001b[0m consistent \u001b[38;5;241m=\u001b[39m \u001b[38;5;28mbool\u001b[39m(np\u001b[38;5;241m.\u001b[39mall(sizes[:\u001b[38;5;241m-\u001b[39m\u001b[38;5;241m1\u001b[39m] \u001b[38;5;241m>\u001b[39m sizes[\u001b[38;5;241m1\u001b[39m:]))\n\u001b[1;32m     73\u001b[0m \u001b[38;5;28;01mif\u001b[39;00m np\u001b[38;5;241m.\u001b[39mall(sizes \u001b[38;5;241m==\u001b[39m sizes[\u001b[38;5;241m0\u001b[39m]):\n\u001b[1;32m     74\u001b[0m     \u001b[38;5;66;03m# note: the individual array case should be caught by the first\u001b[39;00m\n\u001b[1;32m     75\u001b[0m     \u001b[38;5;66;03m# code line in this function, hasattr(ndim) and ndim > 1.\u001b[39;00m\n\u001b[0;32m---> 76\u001b[0m     \u001b[38;5;28;01mraise\u001b[39;00m \u001b[38;5;167;01mValueError\u001b[39;00m(\n\u001b[1;32m     77\u001b[0m         trans\u001b[38;5;241m.\u001b[39m_(\n\u001b[1;32m     78\u001b[0m             \u001b[38;5;124m'\u001b[39m\u001b[38;5;124mInput data should be an array-like object, or a sequence of arrays of decreasing size. Got arrays of single shape: \u001b[39m\u001b[38;5;132;01m{shape}\u001b[39;00m\u001b[38;5;124m'\u001b[39m,\n\u001b[1;32m     79\u001b[0m             deferred\u001b[38;5;241m=\u001b[39m\u001b[38;5;28;01mTrue\u001b[39;00m,\n\u001b[1;32m     80\u001b[0m             shape\u001b[38;5;241m=\u001b[39mshapes[\u001b[38;5;241m0\u001b[39m],\n\u001b[1;32m     81\u001b[0m         )\n\u001b[1;32m     82\u001b[0m     )\n\u001b[1;32m     83\u001b[0m \u001b[38;5;28;01mif\u001b[39;00m \u001b[38;5;129;01mnot\u001b[39;00m consistent:\n\u001b[1;32m     84\u001b[0m     \u001b[38;5;28;01mraise\u001b[39;00m \u001b[38;5;167;01mValueError\u001b[39;00m(\n\u001b[1;32m     85\u001b[0m         trans\u001b[38;5;241m.\u001b[39m_(\n\u001b[1;32m     86\u001b[0m             \u001b[38;5;124m'\u001b[39m\u001b[38;5;124mInput data should be an array-like object, or a sequence of arrays of decreasing size. Got arrays in incorrect order, shapes: \u001b[39m\u001b[38;5;132;01m{shapes}\u001b[39;00m\u001b[38;5;124m'\u001b[39m,\n\u001b[0;32m   (...)\u001b[0m\n\u001b[1;32m     89\u001b[0m         )\n\u001b[1;32m     90\u001b[0m     )\n",
      "\u001b[0;31mValueError\u001b[0m: Input data should be an array-like object, or a sequence of arrays of decreasing size. Got arrays of single shape: (256, 256, 3)"
     ]
    }
   ],
   "source": [
    "# using mapari\n",
    "import napari \n",
    "viewer = napari.Viewer()\n",
    "viewer.add_image(im_drift_corrected, channel_axis=2, gamma=0.5)\n",
    "viewer.add_image(ims_rgb, channel_axis=2, gamma=0.5)\n",
    "\n",
    "labels = ['CD8', 'CD3e', 'CD4']\n",
    "cmap   = ['red', 'green', 'blue']\n",
    "\n",
    "for i,l in enumerate(cmap):\n",
    "    viewer.layers[i].colormap = l\n",
    "    viewer.layers[i].name = labels[i]\n"
   ]
  },
  {
   "cell_type": "code",
   "execution_count": null,
   "metadata": {},
   "outputs": [],
   "source": []
  }
 ],
 "metadata": {
  "kernelspec": {
   "display_name": "Python 3 (ipykernel)",
   "language": "python",
   "name": "python3"
  },
  "language_info": {
   "codemirror_mode": {
    "name": "ipython",
    "version": 3
   },
   "file_extension": ".py",
   "mimetype": "text/x-python",
   "name": "python",
   "nbconvert_exporter": "python",
   "pygments_lexer": "ipython3",
   "version": "3.10.9"
  },
  "toc-autonumbering": true,
  "toc-showcode": true,
  "toc-showmarkdowntxt": false
 },
 "nbformat": 4,
 "nbformat_minor": 4
}
